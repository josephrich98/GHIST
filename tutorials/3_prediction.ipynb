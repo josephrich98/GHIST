{
 "cells": [
  {
   "cell_type": "code",
   "execution_count": 1,
   "id": "eac47696",
   "metadata": {},
   "outputs": [],
   "source": [
    "import os"
   ]
  },
  {
   "cell_type": "markdown",
   "id": "6ecae0ea",
   "metadata": {},
   "source": [
    "In this tutorial we will run GHIST on an H&E image to generate single-cell spatial expression predictions. This requires a saved model checkpoint. We will use a small demo dataset. This is a subset of 10x Genomics (Breast Cancer In Situ Sample 2): https://www.10xgenomics.com/products/xenium-in-situ/preview-dataset-human-breast. This demo is expected to be completed within a few minutes."
   ]
  },
  {
   "cell_type": "markdown",
   "id": "f175fee5",
   "metadata": {},
   "source": [
    "## Download demo checkpoint\n",
    "\n",
    "A previously saved checkpoint is provided for this demo. This downloads to `experiments/demo`:"
   ]
  },
  {
   "cell_type": "code",
   "execution_count": 2,
   "id": "bda4b864",
   "metadata": {},
   "outputs": [],
   "source": [
    "os.chdir(\"../\")"
   ]
  },
  {
   "cell_type": "code",
   "execution_count": 3,
   "id": "bc62cd4e",
   "metadata": {
    "vscode": {
     "languageId": "plaintext"
    }
   },
   "outputs": [
    {
     "name": "stdout",
     "output_type": "stream",
     "text": [
      "Retrieving folder contents\n",
      "Retrieving folder 1HQW5oRYRf4yvFlR5ojdDaxSb0t0W2Ota demo\n",
      "Retrieving folder 1PkhNZhzXQNEAHT59lgOC7qLIcchXR7cU models\n",
      "Processing file 1t0eGI_QrZ2NOpauU0UiUwXJh3BzZ6B-o model.pth\n",
      "Processing file 1AHi1Y5Z-4R8usQY9hb2tVlKjj4ddNJjo optim.pth\n",
      "Processing file 1PmF6AqYKIre1tFJskDXPi2BkIIBV2-Yq genes.txt\n",
      "Processing file 1rdqNu0fZCsXbi-PkwKspVQ24f3LrYiTo standardisation_hist_demo_predict.npy\n",
      "Retrieving folder contents completed\n",
      "Building directory structure\n",
      "Building directory structure completed\n",
      "Downloading...\n",
      "From (original): https://drive.google.com/uc?id=1t0eGI_QrZ2NOpauU0UiUwXJh3BzZ6B-o\n",
      "From (redirected): https://drive.google.com/uc?id=1t0eGI_QrZ2NOpauU0UiUwXJh3BzZ6B-o&confirm=t&uuid=08e54649-6996-4cf4-86a3-8c1aa975db23\n",
      "To: /dskh/nobackup/helenf/project_GHIST/_GITHUB_restructure_branch/experiments/demo/models/model.pth\n",
      "100%|████████████████████████████████████████| 117M/117M [00:05<00:00, 23.2MB/s]\n",
      "Downloading...\n",
      "From (original): https://drive.google.com/uc?id=1AHi1Y5Z-4R8usQY9hb2tVlKjj4ddNJjo\n",
      "From (redirected): https://drive.google.com/uc?id=1AHi1Y5Z-4R8usQY9hb2tVlKjj4ddNJjo&confirm=t&uuid=4483908d-9cd0-4b76-98db-4d74f1aacf97\n",
      "To: /dskh/nobackup/helenf/project_GHIST/_GITHUB_restructure_branch/experiments/demo/models/optim.pth\n",
      "100%|████████████████████████████████████████| 233M/233M [00:06<00:00, 33.4MB/s]\n",
      "Downloading...\n",
      "From: https://drive.google.com/uc?id=1PmF6AqYKIre1tFJskDXPi2BkIIBV2-Yq\n",
      "To: /dskh/nobackup/helenf/project_GHIST/_GITHUB_restructure_branch/experiments/demo/genes.txt\n",
      "100%|██████████████████████████████████████| 1.68k/1.68k [00:00<00:00, 4.76MB/s]\n",
      "Downloading...\n",
      "From: https://drive.google.com/uc?id=1rdqNu0fZCsXbi-PkwKspVQ24f3LrYiTo\n",
      "To: /dskh/nobackup/helenf/project_GHIST/_GITHUB_restructure_branch/experiments/demo/standardisation_hist_demo_predict.npy\n",
      "100%|███████████████████████████████████████████| 176/176 [00:00<00:00, 427kB/s]\n",
      "Download completed\n"
     ]
    }
   ],
   "source": [
    "!gdown --folder https://drive.google.com/drive/folders/1ecTOXmSeQU9v8aKYniQQab2QqkOlIl8u?usp=drive_link"
   ]
  },
  {
   "cell_type": "markdown",
   "id": "f92f9afd",
   "metadata": {},
   "source": [
    "## Config file\n",
    "\n",
    "Parameters are defined in a config file (``./configs/config_demo.json`` for this demo). Important parameters include:\n",
    "\n",
    "- ``comps``: these need to be consistent with the settings used during training. For the demo checkpoint, all components were used.\n",
    "- ``cell_types``: also need to be consistent with the settings used during training.\n",
    "- ``data_sources_predict``: locations of data for prediction. For your own data ensure to update`fp_hist` and `fp_nuc_seg`.\n",
    "- ``regions_predict.divisions``: By default, the whole image will be used for prediction.\n",
    "- ``experiment_dirs.load_dir``: The experiment ID to load the checkpoint from (``demo`` for this demo, or set to ``latest`` to use the latest experiment by timestamp)"
   ]
  },
  {
   "cell_type": "markdown",
   "id": "40fea0e6",
   "metadata": {},
   "source": [
    "## Get predictions\n",
    "\n",
    "```sh\n",
    "python inference.py --config_file configs/FILENAME.json --epoch EPOCH --mode predict --fold_id FOLD --gpu_id GPU_NUM\n",
    "```\n",
    "\n",
    "- ``--config_file`` path to config file\n",
    "- ``--epoch`` specifies which epoch to use, e.g., ``10`` to use the model from epoch 10, or use `last` for the most recent, or `all` for all epochs\n",
    "- ``--fold_id`` specifies the cross-validation fold (1, 2, 3...) the model was trained from\n",
    "- ``--gpu_id`` which GPU to use (0, 1, 2...)"
   ]
  },
  {
   "cell_type": "code",
   "execution_count": 4,
   "id": "aea0476f",
   "metadata": {
    "vscode": {
     "languageId": "plaintext"
    }
   },
   "outputs": [
    {
     "name": "stdout",
     "output_type": "stream",
     "text": [
      "Using GPUs: 0\n",
      "['B', 'Myeloid', 'Endothelial', 'Fibroblast', 'Macrophage', 'Malignant', 'Epithelial', 'Plasma', 'T']\n",
      "Num cell types 9\n",
      "280 genes\n",
      "Avgexp shape  (63, 280)\n",
      "Histology image (5120, 5120, 3), Nuclei (5120, 5120)\n",
      "9517 cells\n",
      "Patches min/max coords 0 5120\n",
      "Getting valid patches\n",
      "100%|████████████████████████████████████████| 529/529 [00:00<00:00, 752.08it/s]\n",
      "Standardisation\n",
      "Predict using experiments/demo/models/model.pth\n",
      "100%|███████████████████████████████████████████| 67/67 [00:20<00:00,  3.34it/s]\n",
      "Saved predicted expressions of 9517 cells to experiments/demo/predict_output//epoch_demo_predict_expr.csv\n"
     ]
    }
   ],
   "source": [
    "!python inference.py --config_file configs/config_demo.json --epoch last --mode predict --fold_id 1 --gpu_id 0"
   ]
  },
  {
   "cell_type": "markdown",
   "id": "5afcd040",
   "metadata": {},
   "source": [
    "## Outputs\n",
    "\n",
    "The predictions were saved to ``experiments/demo/predict_output/``, and the csv files contain the predicted gene expressions for each cell, where the index is the cell ID that corresponds to the IDs from the nuclei segmentation image, and the columns are the genes. An example is provided as ``example_output.csv`` to show the format.  "
   ]
  }
 ],
 "metadata": {
  "kernelspec": {
   "display_name": "Python 3 (ipykernel)",
   "language": "python",
   "name": "python3"
  },
  "language_info": {
   "codemirror_mode": {
    "name": "ipython",
    "version": 3
   },
   "file_extension": ".py",
   "mimetype": "text/x-python",
   "name": "python",
   "nbconvert_exporter": "python",
   "pygments_lexer": "ipython3",
   "version": "3.11.2"
  }
 },
 "nbformat": 4,
 "nbformat_minor": 5
}
