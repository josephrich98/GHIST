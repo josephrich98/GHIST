{
 "cells": [
  {
   "cell_type": "code",
   "execution_count": 1,
   "id": "4d9bf435",
   "metadata": {},
   "outputs": [],
   "source": [
    "import os\n",
    "import zipfile\n",
    "from pathlib import Path"
   ]
  },
  {
   "cell_type": "markdown",
   "id": "d5cb5df0",
   "metadata": {},
   "source": [
    "Dataset:\n",
    "\n",
    "- Manuscript: https://www.nature.com/articles/s41588-025-02193-3#data-availability\n",
    "- 10x: https://www.10xgenomics.com/platforms/visium/product-family/dataset-human-crc\n",
    "- 10x (alt): https://www.10xgenomics.com/datasets/visium-hd-cytassist-gene-expression-libraries-of-human-crc\n",
    "- GEO: https://www.ncbi.nlm.nih.gov/geo/query/acc.cgi?acc=GSE280318\n",
    "- SRA: https://www.ncbi.nlm.nih.gov/Traces/study/?acc=PRJNA1177833&o=acc_s%3Aa"
   ]
  },
  {
   "cell_type": "markdown",
   "id": "c4f189f9",
   "metadata": {},
   "source": [
    "## Extract data\n",
    "\n",
    "Unzip the file `data_demo/images.zip` and place the 2 `.tif` files under `data_demo`:"
   ]
  },
  {
   "cell_type": "code",
   "execution_count": 2,
   "id": "732a4bd0",
   "metadata": {},
   "outputs": [],
   "source": [
    "os.chdir(\"../\")"
   ]
  },
  {
   "cell_type": "code",
   "execution_count": 3,
   "id": "d9c24cf2",
   "metadata": {},
   "outputs": [],
   "source": [
    "data_dir = Path(\"data_demo\")\n",
    "\n",
    "with zipfile.ZipFile(data_dir / \"images.zip\", 'r') as zip_ref:\n",
    "    zip_ref.extractall(data_dir)"
   ]
  },
  {
   "cell_type": "markdown",
   "id": "51634d66",
   "metadata": {},
   "source": [
    "## Config file\n",
    "\n",
    "Parameters are defined in a config file (``./configs/config_demo.json`` for this demo). Important parameters include:\n",
    "\n",
    "- ``comps``: if ``avgexp``, ``celltype``, or ``neighb`` information is not available, set any of these missing parameters to ``false``. If ``celltype`` is ``false``, ``neighb`` will also be ``false`` as it depends on ``celltype``.\n",
    "- ``cell_types``: list of cell types in your data. Ignored if ``celltype`` is ``false``.\n",
    "- ``data_sources_train_val``: locations of data for training and validation.\n",
    "- ``regions_val.divisions``: contains the start and end of partitions to be used for validation. The image is divided along the y (vertical) axis at the specified intervals. Portion k is used for validation in fold k while the remainder is used for training.  Set to ``[0.0, 0.0]`` as the list of a fold to use the whole image for training."
   ]
  },
  {
   "cell_type": "markdown",
   "id": "5ab791ef",
   "metadata": {},
   "source": [
    "## Training\n",
    "\n",
    "```sh\n",
    "python train.py --config_file configs/FILENAME.json --resume_epoch EPOCH --fold_id FOLD --gpu_id GPU_NUM\n",
    "```\n",
    "\n",
    "- ``--config_file`` path to config file\n",
    "- ``--resume_epoch`` specifies whether to train from scratch or resume from a checkpoint, e.g., ``--resume_epoch 10`` to resume from the saved checkpoint from epoch 10. Set to 0 for training from scratch. Training will end when epoch number reaches `total_epochs` specified in the config file.\n",
    "- ``--fold_id`` specifies the cross-validation fold (1, 2, 3...)\n",
    "- ``--gpu_id`` which GPU to use (0, 1, 2...)"
   ]
  },
  {
   "cell_type": "code",
   "execution_count": 5,
   "id": "b9bc0dc8",
   "metadata": {},
   "outputs": [
    {
     "name": "stdout",
     "output_type": "stream",
     "text": [
      "Using GPUs: 0\n",
      "2025-09-18 12:33:55,821 INFO Initialising model\n",
      "['B', 'Myeloid', 'Endothelial', 'Fibroblast', 'Macrophage', 'Malignant', 'Epithelial', 'Plasma', 'T']\n",
      "Num cell types 9\n",
      "280 genes\n",
      "Avgexp shape  (63, 280)\n",
      "2025-09-18 12:33:56,683 INFO Preparing data\n",
      "Cell type data shape, (5508, 1)\n",
      "Histology image (5120, 5120, 3), Nuclei (5120, 5120)\n",
      "4152 cells\n",
      "Patches min/max coords 1024 5120\n",
      "Getting valid patches\n",
      "100%|████████████████████████████████████████| 320/320 [00:00<00:00, 536.21it/s]\n",
      "Standardisation\n",
      "100%|████████████████████████████████████████| 320/320 [00:01<00:00, 231.02it/s]\n",
      "2025-09-18 12:33:59,753 INFO Total number of training batches: 40\n",
      "2025-09-18 12:33:59,801 INFO Begin training\n",
      "Epoch: 1\n",
      "loss: 10.0839: 100%|████████████████████████████| 40/40 [00:56<00:00,  1.41s/it]\n",
      "Epoch[1/3], Loss:744.6718\n",
      "2025-09-18 12:34:56,220 INFO Model saved: experiments/demo/models/epoch_1_model.pth\n",
      "2025-09-18 12:34:56,528 INFO Optimiser saved: experiments/demo/models/epoch_1_optim.pth\n",
      "Epoch: 2\n",
      "loss: 10.6787: 100%|████████████████████████████| 40/40 [00:55<00:00,  1.39s/it]\n",
      "Epoch[2/3], Loss:419.7552\n",
      "2025-09-18 12:35:52,246 INFO Model saved: experiments/demo/models/epoch_2_model.pth\n",
      "2025-09-18 12:35:52,514 INFO Optimiser saved: experiments/demo/models/epoch_2_optim.pth\n",
      "Epoch: 3\n",
      "loss: 9.1517: 100%|█████████████████████████████| 40/40 [00:55<00:00,  1.39s/it]\n",
      "Epoch[3/3], Loss:398.0033\n",
      "2025-09-18 12:36:48,340 INFO Model saved: experiments/demo/models/epoch_3_model.pth\n",
      "2025-09-18 12:36:48,599 INFO Optimiser saved: experiments/demo/models/epoch_3_optim.pth\n",
      "2025-09-18 12:36:48,599 INFO Training finished\n"
     ]
    }
   ],
   "source": [
    "!python train.py --config_file configs/config_demo.json --resume_epoch 0 --fold_id 1 --gpu_id 0"
   ]
  },
  {
   "cell_type": "markdown",
   "id": "10de5bf3",
   "metadata": {},
   "source": [
    "A folder is created under `./experiments/demo` where model checkpoints and outputs will be saved."
   ]
  },
  {
   "cell_type": "markdown",
   "id": "9f262ca8",
   "metadata": {},
   "source": [
    "## Validation\n",
    "\n",
    "Validation mode assumes ground truth is available. To run prediction where ground truth is not available, see [Prediction on data without ground truth](./3_prediction.ipynb)\n",
    "\n",
    "```sh\n",
    "python inference.py --config_file configs/FILENAME.json --epoch EPOCH --mode val --fold_id FOLD --gpu_id GPU_NUM\n",
    "```\n",
    "\n",
    "- ``--epoch`` specifies which epoch to test, e.g., ``10`` to use the model from epoch 10, or use `last` for the most recent, or `all` for all epochs"
   ]
  },
  {
   "cell_type": "code",
   "execution_count": 7,
   "id": "19ccf790",
   "metadata": {},
   "outputs": [
    {
     "name": "stdout",
     "output_type": "stream",
     "text": [
      "Using GPUs: 0\n",
      "['B', 'Myeloid', 'Endothelial', 'Fibroblast', 'Macrophage', 'Malignant', 'Epithelial', 'Plasma', 'T']\n",
      "Num cell types 9\n",
      "280 genes\n",
      "Avgexp shape  (63, 280)\n",
      "Cell type data shape, (5508, 1)\n",
      "Histology image (5120, 5120, 3), Nuclei (5120, 5120)\n",
      "1072 cells\n",
      "Patches min/max coords 0 1024\n",
      "Getting valid patches\n",
      "100%|████████████████████████████████████████| 115/115 [00:00<00:00, 602.44it/s]\n",
      "Standardisation\n",
      "Predict using experiments/demo/models/epoch_3_model.pth\n",
      "100%|███████████████████████████████████████████| 15/15 [00:04<00:00,  3.74it/s]\n",
      "Saved predicted expressions of 1072 cells to experiments/demo/val_output//epoch_3_expr.csv\n",
      "***expression correlation***\n",
      "PCC mean: 0.24223653899061412\n",
      "***best epoch***\n",
      "PCC best epoch 3 mean 0.24223653899061412\n"
     ]
    }
   ],
   "source": [
    "!python inference.py --config_file configs/config_demo.json --epoch last --mode val --fold_id 1 --gpu_id 0"
   ]
  },
  {
   "cell_type": "markdown",
   "id": "096a543a",
   "metadata": {},
   "source": [
    "In this tutorial we trained for 3 epochs to keep the demo short. In practice, for better performance, the model would typically be trained on more data and for more iterations."
   ]
  },
  {
   "cell_type": "markdown",
   "id": "95c1d2d8",
   "metadata": {},
   "source": [
    "## Outputs\n",
    "\n",
    "The predictions were saved to ``experiments/demo/val_output/``, and the csv files contain the predicted gene expressions for each cell, where the index is the cell ID that corresponds to the IDs from the nuclei segmentation image, and the columns are the genes. An example is provided as ``example_output.csv`` to show the format.  "
   ]
  }
 ],
 "metadata": {
  "kernelspec": {
   "display_name": "ghist",
   "language": "python",
   "name": "python3"
  },
  "language_info": {
   "codemirror_mode": {
    "name": "ipython",
    "version": 3
   },
   "file_extension": ".py",
   "mimetype": "text/x-python",
   "name": "python",
   "nbconvert_exporter": "python",
   "pygments_lexer": "ipython3",
   "version": "3.10.18"
  }
 },
 "nbformat": 4,
 "nbformat_minor": 5
}
